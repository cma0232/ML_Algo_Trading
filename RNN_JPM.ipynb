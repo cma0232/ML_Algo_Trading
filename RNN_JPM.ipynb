{
 "cells": [
  {
   "cell_type": "code",
   "execution_count": 91,
   "metadata": {},
   "outputs": [],
   "source": [
    "import pandas as pd"
   ]
  },
  {
   "cell_type": "code",
   "execution_count": 130,
   "metadata": {},
   "outputs": [
    {
     "name": "stdout",
     "output_type": "stream",
     "text": [
      "                 Close\n",
      "Date                  \n",
      "2014-01-14   57.740002\n",
      "2014-01-15   59.490002\n",
      "2014-01-16   58.990002\n",
      "2014-01-17   58.110001\n",
      "2014-01-21   58.169998\n",
      "...                ...\n",
      "2020-11-09  116.900002\n",
      "2020-11-10  116.519997\n",
      "2020-11-11  114.779999\n",
      "2020-11-12  113.370003\n",
      "2020-11-13  114.080002\n",
      "\n",
      "[1723 rows x 1 columns]\n"
     ]
    }
   ],
   "source": [
    "data = pd.read_csv('JPM.csv', header=0, usecols=['Date', 'Close'], parse_dates=True, index_col='Date')\n",
    "print(data)"
   ]
  },
  {
   "cell_type": "code",
   "execution_count": 131,
   "metadata": {},
   "outputs": [],
   "source": [
    "import matplotlib.pyplot as plt"
   ]
  },
  {
   "cell_type": "code",
   "execution_count": 132,
   "metadata": {},
   "outputs": [
    {
     "data": {
      "image/png": "[encoded data removed]",
      "text/plain": [
       "<Figure size 432x288 with 1 Axes>"
      ]
     },
     "metadata": {
      "needs_background": "light"
     },
     "output_type": "display_data"
    }
   ],
   "source": [
    "plt.plot(data['Close'])\n",
    "plt.show()"
   ]
  },
  {
   "cell_type": "code",
   "execution_count": 133,
   "metadata": {},
   "outputs": [],
   "source": [
    "from sklearn.preprocessing import MinMaxScaler"
   ]
  },
  {
   "cell_type": "code",
   "execution_count": 134,
   "metadata": {},
   "outputs": [
    {
     "name": "stdout",
     "output_type": "stream",
     "text": [
      "[[0.05305615]\n",
      " [0.07293799]\n",
      " [0.06725747]\n",
      " ...\n",
      " [0.70109068]\n",
      " [0.68507164]\n",
      " [0.69313798]]\n"
     ]
    }
   ],
   "source": [
    "scaler = MinMaxScaler()\n",
    "scaled_data = scaler.fit_transform(data)\n",
    "print(scaled_data)"
   ]
  },
  {
   "cell_type": "code",
   "execution_count": 135,
   "metadata": {},
   "outputs": [],
   "source": [
    "train_length = int(len(scaled_data) * 0.7)\n",
    "test_length = len(scaled_data) - train_length\n",
    "train_data = scaled_data[0:train_length,:]\n",
    "test_data = scaled_data[train_length:len(scaled_data),:]"
   ]
  },
  {
   "cell_type": "code",
   "execution_count": 136,
   "metadata": {},
   "outputs": [],
   "source": [
    "import numpy as np"
   ]
  },
  {
   "cell_type": "code",
   "execution_count": 137,
   "metadata": {},
   "outputs": [],
   "source": [
    "def create_dataset(dataset, timestep=1):\n",
    "    data_x, data_y = [], []\n",
    "    for i in range(len(dataset) - timestep - 1):\n",
    "        data_x.append(dataset[i:(i+timestep),0])\n",
    "        data_y.append(dataset[i+timestep,0])\n",
    "    return np.array(data_x), np.array(data_y)"
   ]
  },
  {
   "cell_type": "code",
   "execution_count": 138,
   "metadata": {},
   "outputs": [
    {
     "name": "stdout",
     "output_type": "stream",
     "text": [
      "[[0.05305615]\n",
      " [0.07293799]\n",
      " [0.06725747]\n",
      " ...\n",
      " [0.62304029]\n",
      " [0.60543062]\n",
      " [0.59281984]]\n"
     ]
    }
   ],
   "source": [
    "timestep = 1\n",
    "train_x, train_y = create_dataset(train_data, timestep)\n",
    "test_x, test_y = create_dataset(test_data, timestep)\n",
    "\n",
    "print(train_x)"
   ]
  },
  {
   "cell_type": "code",
   "execution_count": 139,
   "metadata": {},
   "outputs": [
    {
     "name": "stdout",
     "output_type": "stream",
     "text": [
      "(1204, 1)\n"
     ]
    }
   ],
   "source": [
    "print(train_x.shape)"
   ]
  },
  {
   "cell_type": "code",
   "execution_count": 140,
   "metadata": {},
   "outputs": [
    {
     "name": "stdout",
     "output_type": "stream",
     "text": [
      "[[[0.05305615]]\n",
      "\n",
      " [[0.07293799]]\n",
      "\n",
      " [[0.06725747]]\n",
      "\n",
      " ...\n",
      "\n",
      " [[0.62304029]]\n",
      "\n",
      " [[0.60543062]]\n",
      "\n",
      " [[0.59281984]]]\n"
     ]
    }
   ],
   "source": [
    "train_x = np.reshape(train_x, (train_x.shape[0], 1, train_x.shape[1]))\n",
    "test_x = np.reshape(test_x, (test_x.shape[0], 1, test_x.shape[1]))\n",
    "\n",
    "print(train_x)"
   ]
  },
  {
   "cell_type": "code",
   "execution_count": 141,
   "metadata": {},
   "outputs": [],
   "source": [
    "from keras.models import Sequential\n",
    "from keras.layers import LSTM, Dense"
   ]
  },
  {
   "cell_type": "code",
   "execution_count": 142,
   "metadata": {},
   "outputs": [
    {
     "name": "stdout",
     "output_type": "stream",
     "text": [
      "Model: \"sequential_6\"\n",
      "_________________________________________________________________\n",
      "Layer (type)                 Output Shape              Param #   \n",
      "=================================================================\n",
      "lstm_6 (LSTM)                (None, 256)               264192    \n",
      "_________________________________________________________________\n",
      "dense_6 (Dense)              (None, 1)                 257       \n",
      "=================================================================\n",
      "Total params: 264,449\n",
      "Trainable params: 264,449\n",
      "Non-trainable params: 0\n",
      "_________________________________________________________________\n",
      "None\n"
     ]
    }
   ],
   "source": [
    "model = Sequential()\n",
    "model.add(LSTM(256, input_shape=(1,1)))\n",
    "model.add(Dense(1, activation='sigmoid'))\n",
    "model.compile(loss='mean_squared_error', optimizer='adam', metrics=['accuracy'])\n",
    "print(model.summary())"
   ]
  },
  {
   "cell_type": "code",
   "execution_count": 143,
   "metadata": {},
   "outputs": [
    {
     "name": "stdout",
     "output_type": "stream",
     "text": [
      "1204/1204 [==============================] - 2s 2ms/step - loss: 0.0150 - accuracy: 8.3056e-04\n",
      "Keras model loss =  0.0009545594803057611\n",
      "Keras model accuracy =  0.000830564764328301\n"
     ]
    }
   ],
   "source": [
    "model.fit(train_x, train_y, epochs=1, batch_size=1, verbose=1)\n",
    "score = model.evaluate(train_x, train_y, verbose=0)\n",
    "print('Keras model loss = ', score[0])\n",
    "print('Keras model accuracy = ', score[1])"
   ]
  },
  {
   "cell_type": "code",
   "execution_count": 144,
   "metadata": {},
   "outputs": [
    {
     "name": "stdout",
     "output_type": "stream",
     "text": [
      "[[0.09620872]\n",
      " [0.10525194]\n",
      " [0.10259396]\n",
      " ...\n",
      " [0.64974463]\n",
      " [0.62957704]\n",
      " [0.6148337 ]]\n"
     ]
    }
   ],
   "source": [
    "train_predictions = model.predict(train_x)\n",
    "test_predictions = model.predict(test_x)\n",
    "\n",
    "print(train_predictions)"
   ]
  },
  {
   "cell_type": "code",
   "execution_count": 145,
   "metadata": {},
   "outputs": [
    {
     "name": "stdout",
     "output_type": "stream",
     "text": [
      "[[ 61.538292]\n",
      " [ 62.334274]\n",
      " [ 62.100323]\n",
      " ...\n",
      " [110.26051 ]\n",
      " [108.48537 ]\n",
      " [107.18766 ]]\n"
     ]
    }
   ],
   "source": [
    "train_predictions = scaler.inverse_transform(train_predictions)\n",
    "train_y = scaler.inverse_transform([train_y])\n",
    "\n",
    "test_predictions = scaler.inverse_transform(test_predictions)\n",
    "test_y = scaler.inverse_transform([test_y])\n",
    "\n",
    "print(train_predictions)"
   ]
  },
  {
   "cell_type": "code",
   "execution_count": 146,
   "metadata": {},
   "outputs": [],
   "source": [
    "train_predict_plot = np.empty_like(scaled_data)\n",
    "train_predict_plot[:,:] = np.nan\n",
    "train_predict_plot[1:len(train_predictions)+1, :] = train_predictions"
   ]
  },
  {
   "cell_type": "code",
   "execution_count": 147,
   "metadata": {},
   "outputs": [],
   "source": [
    "test_predict_plot = np.empty_like(scaled_data)\n",
    "test_predict_plot[:,:] = np.nan\n",
    "test_predict_plot[\n",
    "    len(train_predictions)+2+1:len(scaled_data)-1, :] = test_predictions"
   ]
  },
  {
   "cell_type": "code",
   "execution_count": null,
   "metadata": {},
   "outputs": [],
   "source": []
  },
  {
   "cell_type": "code",
   "execution_count": 148,
   "metadata": {},
   "outputs": [
    {
     "data": {
      "image/png": "[encoded data removed]",
      "text/plain": [
       "<Figure size 432x288 with 1 Axes>"
      ]
     },
     "metadata": {
      "needs_background": "light"
     },
     "output_type": "display_data"
    }
   ],
   "source": [
    "plt.plot(scaler.inverse_transform(scaled_data))\n",
    "plt.plot(train_predict_plot)\n",
    "plt.plot(test_predict_plot)\n",
    "plt.show()"
   ]
  },
  {
   "cell_type": "code",
   "execution_count": null,
   "metadata": {},
   "outputs": [],
   "source": []
  }
 ],
 "metadata": {
  "kernelspec": {
   "display_name": "Python 3",
   "language": "python",
   "name": "python3"
  },
  "language_info": {
   "codemirror_mode": {
    "name": "ipython",
    "version": 3
   },
   "file_extension": ".py",
   "mimetype": "text/x-python",
   "name": "python",
   "nbconvert_exporter": "python",
   "pygments_lexer": "ipython3",
   "version": "3.8.3"
  }
 },
 "nbformat": 4,
 "nbformat_minor": 2
}
